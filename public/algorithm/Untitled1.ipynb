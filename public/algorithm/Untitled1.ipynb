{
 "cells": [
  {
   "cell_type": "code",
   "execution_count": 1,
   "id": "ef5b1dbf",
   "metadata": {},
   "outputs": [
    {
     "name": "stdout",
     "output_type": "stream",
     "text": [
      "76.13636363636364\n",
      "98.01136363636364\n"
     ]
    }
   ],
   "source": [
    "import pandas as pd\n",
    "import pickle\n",
    "def calculate_accuracy(y_true, y_pred):\n",
    "        # Count the number of correct predictions\n",
    "        correct = 0\n",
    "        for i in range(len(y_true)):\n",
    "            if y_true[i] == y_pred[i]:\n",
    "                correct += 1\n",
    "    # Calculate the accuracy as a percentage\n",
    "        accuracy = (correct / len(y_true)) * 100\n",
    "        return accuracy\n",
    "\n",
    "# Load the test dataset from the pickled file\n",
    "with open('svm_model.pkl', 'rb') as f:\n",
    "    clf= pickle.load(f)\n",
    "with open('rf_model.pkl', 'rb') as f:\n",
    "    clf1= pickle.load(f)\n",
    "with open('test.pkl', 'rb') as f:\n",
    "    X_test,y_test = pickle.load(f)\n",
    "# Make predictions on the test dataset\n",
    "y_pred = clf.predict(X_test)\n",
    "y1_pred=clf1.predict(X_test)\n",
    "svm_acc=calculate_accuracy(y_pred,y_test)\n",
    "rf_acc=calculate_accuracy(y1_pred,y_test)\n",
    " \n",
    "\n",
    "\n",
    "# Print the predictions\n",
    "print(svm_acc)\n",
    "print(rf_acc)"
   ]
  },
  {
   "cell_type": "code",
   "execution_count": null,
   "id": "3a22f0dd",
   "metadata": {},
   "outputs": [],
   "source": []
  }
 ],
 "metadata": {
  "kernelspec": {
   "display_name": "Python 3 (ipykernel)",
   "language": "python",
   "name": "python3"
  },
  "language_info": {
   "codemirror_mode": {
    "name": "ipython",
    "version": 3
   },
   "file_extension": ".py",
   "mimetype": "text/x-python",
   "name": "python",
   "nbconvert_exporter": "python",
   "pygments_lexer": "ipython3",
   "version": "3.10.8"
  }
 },
 "nbformat": 4,
 "nbformat_minor": 5
}
