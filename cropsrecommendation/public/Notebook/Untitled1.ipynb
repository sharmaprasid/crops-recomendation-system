{
 "cells": [
  {
   "cell_type": "code",
   "execution_count": 32,
   "id": "d92efb02",
   "metadata": {},
   "outputs": [],
   "source": [
    "import numpy as np\n",
    "import pandas as pd\n",
    "import matplotlib.pyplot as plt\n",
    "\n",
    "from sklearn.manifold import TSNE\n",
    "from sklearn.preprocessing import StandardScaler"
   ]
  },
  {
   "cell_type": "code",
   "execution_count": 33,
   "id": "f5048913",
   "metadata": {},
   "outputs": [],
   "source": [
    "#load dataset Crop_recommendation.csv with panda \n",
    "data=pd.read_csv(\"E:\\cropsdjango\\cropsrecommendation\\cropsrecommendation\\Crop_recommendation.csv\")"
   ]
  },
  {
   "cell_type": "code",
   "execution_count": 46,
   "id": "9cbbb07d",
   "metadata": {},
   "outputs": [
    {
     "ename": "AttributeError",
     "evalue": "'SVM' object has no attribute 'decision_function'",
     "output_type": "error",
     "traceback": [
      "\u001b[1;31m---------------------------------------------------------------------------\u001b[0m",
      "\u001b[1;31mAttributeError\u001b[0m                            Traceback (most recent call last)",
      "Cell \u001b[1;32mIn[46], line 75\u001b[0m\n\u001b[0;32m     73\u001b[0m svm \u001b[38;5;241m=\u001b[39m SVM()\n\u001b[0;32m     74\u001b[0m svm\u001b[38;5;241m.\u001b[39mfit(X, y)\n\u001b[1;32m---> 75\u001b[0m \u001b[43msvm\u001b[49m\u001b[38;5;241;43m.\u001b[39;49m\u001b[43mplot_hyperplane\u001b[49m\u001b[43m(\u001b[49m\u001b[43mX\u001b[49m\u001b[43m,\u001b[49m\u001b[43m \u001b[49m\u001b[43my\u001b[49m\u001b[43m)\u001b[49m\n",
      "Cell \u001b[1;32mIn[46], line 60\u001b[0m, in \u001b[0;36mSVM.plot_hyperplane\u001b[1;34m(self, X, y)\u001b[0m\n\u001b[0;32m     57\u001b[0m y_min, y_max \u001b[38;5;241m=\u001b[39m X_tsne[:, \u001b[38;5;241m1\u001b[39m]\u001b[38;5;241m.\u001b[39mmin() \u001b[38;5;241m-\u001b[39m \u001b[38;5;241m1\u001b[39m, X_tsne[:, \u001b[38;5;241m1\u001b[39m]\u001b[38;5;241m.\u001b[39mmax() \u001b[38;5;241m+\u001b[39m \u001b[38;5;241m1\u001b[39m\n\u001b[0;32m     58\u001b[0m xx, yy \u001b[38;5;241m=\u001b[39m np\u001b[38;5;241m.\u001b[39mmeshgrid(np\u001b[38;5;241m.\u001b[39marange(x_min, x_max, \u001b[38;5;241m0.02\u001b[39m),\n\u001b[0;32m     59\u001b[0m                      np\u001b[38;5;241m.\u001b[39marange(y_min, y_max, \u001b[38;5;241m0.02\u001b[39m))\n\u001b[1;32m---> 60\u001b[0m Z \u001b[38;5;241m=\u001b[39m \u001b[38;5;28;43mself\u001b[39;49m\u001b[38;5;241;43m.\u001b[39;49m\u001b[43mdecision_function\u001b[49m(tsne\u001b[38;5;241m.\u001b[39minverse_transform(np\u001b[38;5;241m.\u001b[39mc_[xx\u001b[38;5;241m.\u001b[39mravel(), yy\u001b[38;5;241m.\u001b[39mravel()]))\n\u001b[0;32m     61\u001b[0m Z \u001b[38;5;241m=\u001b[39m Z\u001b[38;5;241m.\u001b[39mreshape(xx\u001b[38;5;241m.\u001b[39mshape)\n\u001b[0;32m     62\u001b[0m plt\u001b[38;5;241m.\u001b[39mcontourf(xx, yy, Z, alpha\u001b[38;5;241m=\u001b[39m\u001b[38;5;241m0.8\u001b[39m)\n",
      "\u001b[1;31mAttributeError\u001b[0m: 'SVM' object has no attribute 'decision_function'"
     ]
    }
   ],
   "source": [
    "import numpy as np\n",
    "import matplotlib.pyplot as plt\n",
    "from sklearn.manifold import TSNE\n",
    "from sklearn.preprocessing import StandardScaler\n",
    "\n",
    "\n",
    "class SVM:\n",
    "    def __init__(self, learning_rate=0.001, lambda_param=0.01, n_iters=100, batch_size=32):\n",
    "        self.lr = learning_rate\n",
    "        self.lambda_param = lambda_param\n",
    "        self.n_iters = n_iters\n",
    "        self.batch_size = batch_size\n",
    "        self.weights = None\n",
    "        self.bias = None\n",
    "        self.classes = None\n",
    "\n",
    "    def fit(self, X, y):\n",
    "        self.classes = np.unique(y)\n",
    "        n_samples, n_features = X.shape\n",
    "        self.weights = np.zeros((len(self.classes), n_features))\n",
    "        self.bias = np.zeros(len(self.classes))\n",
    "        for i, c in enumerate(self.classes):\n",
    "            y_binary = np.where(y == c, 1, -1)\n",
    "            w = np.zeros(n_features)\n",
    "            b = 0\n",
    "            for _ in range(self.n_iters):\n",
    "                indices = np.random.choice(\n",
    "                    n_samples, self.batch_size, replace=False)\n",
    "                X_batch = X[indices]\n",
    "                y_batch = y_binary[indices]\n",
    "                scores = np.dot(X_batch, w) - b\n",
    "                margins = y_batch * scores\n",
    "                misclassified = margins < 1\n",
    "                grad_w = self.lambda_param * w - \\\n",
    "                    np.dot(X_batch.T, y_batch * misclassified) / \\\n",
    "                    self.batch_size\n",
    "                grad_b = -np.sum(y_batch * misclassified) / self.batch_size\n",
    "                w -= self.lr * grad_w\n",
    "                b -= self.lr * grad_b\n",
    "            self.weights[i] = w\n",
    "            self.bias[i] = b\n",
    "\n",
    "    def predict(self, X):\n",
    "        output = np.dot(X, self.weights.T) - self.bias\n",
    "        return self.classes[np.argmax(output, axis=1)]\n",
    "\n",
    "    def plot_hyperplane(self, X, y):\n",
    "        if X.shape[1] != 2:\n",
    "            raise ValueError(\"Can only plot hyperplane in 2D space.\")\n",
    "        \n",
    "        # Perform dimensionality reduction using t-SNE\n",
    "        X_scaled = StandardScaler().fit_transform(X)\n",
    "        tsne = TSNE(n_components=2, random_state=42)\n",
    "        X_tsne = tsne.fit_transform(X_scaled)\n",
    "        \n",
    "        x_min, x_max = X_tsne[:, 0].min() - 1, X_tsne[:, 0].max() + 1\n",
    "        y_min, y_max = X_tsne[:, 1].min() - 1, X_tsne[:, 1].max() + 1\n",
    "        xx, yy = np.meshgrid(np.arange(x_min, x_max, 0.02),\n",
    "                             np.arange(y_min, y_max, 0.02))\n",
    "        Z = self.decision_function(tsne.inverse_transform(np.c_[xx.ravel(), yy.ravel()]))\n",
    "        Z = Z.reshape(xx.shape)\n",
    "        plt.contourf(xx, yy, Z, alpha=0.8)\n",
    "        plt.scatter(X_tsne[:, 0], X_tsne[:, 1], c=y, cmap=plt.cm.Paired)\n",
    "        plt.xlabel('t-SNE Dimension 1')\n",
    "        plt.ylabel('t-SNE Dimension 2')\n",
    "        plt.title('SVM Hyperplane')\n",
    "        plt.show()\n",
    "\n",
    "\n",
    "# Example usage\n",
    "X = np.random.rand(100, 2)  # Replace with your own 2D data\n",
    "y = np.random.randint(0, 21, size=(100,))  # Replace with your own labels\n",
    "svm = SVM()\n",
    "svm.fit(X, y)\n",
    "svm.plot_hyperplane(X, y)\n"
   ]
  },
  {
   "cell_type": "code",
   "execution_count": 36,
   "id": "d7433157",
   "metadata": {},
   "outputs": [],
   "source": [
    "  def calculate_accuracy(y_true, y_pred):\n",
    "        # Count the number of correct predictions\n",
    "        correct = 0\n",
    "        for i in range(len(y_true)):\n",
    "            if y_true[i] == y_pred[i]:\n",
    "                correct += 1\n",
    "    # Calculate the accuracy as a percentage\n",
    "        accuracy = (correct / len(y_true)) * 100\n",
    "        return accuracy\n"
   ]
  },
  {
   "cell_type": "code",
   "execution_count": 37,
   "id": "2c69281f",
   "metadata": {},
   "outputs": [],
   "source": [
    "# Outlier removal using the IQR rule\n",
    "df=data\n",
    "#Humidity\n",
    "\n",
    "Q1 = df['humidity'].quantile(0.25)\n",
    "Q3 = df['humidity'].quantile(0.75)\n",
    "IQR = Q3 - Q1\n",
    "\n",
    "df = df[(df['humidity'] >= Q1 - 1.5*IQR) & (df['humidity'] <= Q3 + 1.5*IQR)]\n",
    "# Rainfall\n",
    "Q1 = df['rainfall'].quantile(0.25)\n",
    "Q3 = df['rainfall'].quantile(0.75)\n",
    "IQR = Q3 - Q1\n",
    "\n",
    "df = df[(df['rainfall'] >= Q1 - 1.5*IQR) & (df['rainfall'] <= Q3 + 1.5*IQR)]\n",
    "\n",
    "# Temperature\n",
    "Q1 = df['temperature'].quantile(0.25)\n",
    "Q3 = df['temperature'].quantile(0.75)\n",
    "IQR = Q3 - Q1\n",
    "\n",
    "df = df[(df['temperature'] >= Q1 - 1.5*IQR) & (df['temperature'] <= Q3 + 1.5*IQR)]\n",
    "\n",
    "# pH\n",
    "Q1 = df['ph'].quantile(0.25)\n",
    "Q3 = df['ph'].quantile(0.75)\n",
    "IQR = Q3 - Q1\n",
    "\n",
    "df = df[(df['ph'] >= Q1 - 1.5*IQR) & (df['ph'] <= Q3 + 1.5*IQR)]\n",
    "\n",
    "# N\n",
    "Q1 = df['N'].quantile(0.25)\n",
    "Q3 = df['N'].quantile(0.75)\n",
    "IQR = Q3 - Q1\n",
    "\n",
    "df = df[(df['N'] >= Q1 - 1.5*IQR) & (df['N'] <= Q3 + 1.5*IQR)]\n",
    "\n",
    "# P\n",
    "Q1 = df['P'].quantile(0.25)\n",
    "Q3 = df['P'].quantile(0.75)\n",
    "IQR = Q3 - Q1\n",
    "\n",
    "df = df[(df['P'] >= Q1 - 1.5*IQR) & (df['P'] <= Q3 + 1.5*IQR)]\n",
    "\n",
    "# K \n",
    "Q1 = df['K'].quantile(0.25)\n",
    "Q3 = df['K'].quantile(0.75)\n",
    "IQR = Q3 - Q1\n",
    "\n",
    "df = df[(df['K'] >= Q1 - 1.5*IQR) & (df['K'] <= Q3 + 1.5*IQR)]"
   ]
  },
  {
   "cell_type": "code",
   "execution_count": 38,
   "id": "3697cf37",
   "metadata": {},
   "outputs": [],
   "source": [
    " X = df.iloc[:, :-1].values\n",
    "y = df.iloc[:, -1].values"
   ]
  },
  {
   "cell_type": "code",
   "execution_count": 39,
   "id": "253b359c",
   "metadata": {},
   "outputs": [],
   "source": [
    "from sklearn.preprocessing import LabelEncoder"
   ]
  },
  {
   "cell_type": "code",
   "execution_count": 40,
   "id": "d41ac331",
   "metadata": {},
   "outputs": [],
   "source": [
    "from sklearn.model_selection import train_test_split\n",
    "\n",
    "le = LabelEncoder()\n",
    "y = le.fit_transform(y)\n",
    "X_train, X_test, y_train, y_test = train_test_split(X, y, test_size=0.1, random_state=40)"
   ]
  },
  {
   "cell_type": "code",
   "execution_count": 41,
   "id": "71fbe373",
   "metadata": {},
   "outputs": [],
   "source": [
    "svm = SVM()"
   ]
  },
  {
   "cell_type": "code",
   "execution_count": 42,
   "id": "15d93035",
   "metadata": {},
   "outputs": [
    {
     "ename": "ValueError",
     "evalue": "Can only plot hyperplane in 2D space.",
     "output_type": "error",
     "traceback": [
      "\u001b[1;31m---------------------------------------------------------------------------\u001b[0m",
      "\u001b[1;31mValueError\u001b[0m                                Traceback (most recent call last)",
      "Cell \u001b[1;32mIn[42], line 2\u001b[0m\n\u001b[0;32m      1\u001b[0m svm\u001b[38;5;241m.\u001b[39mfit(X_train, y_train)\n\u001b[1;32m----> 2\u001b[0m \u001b[43msvm\u001b[49m\u001b[38;5;241;43m.\u001b[39;49m\u001b[43mplot_hyperplane\u001b[49m\u001b[43m(\u001b[49m\u001b[43mX\u001b[49m\u001b[43m,\u001b[49m\u001b[43m \u001b[49m\u001b[43my\u001b[49m\u001b[43m)\u001b[49m\n",
      "Cell \u001b[1;32mIn[13], line 39\u001b[0m, in \u001b[0;36mSVM.plot_hyperplane\u001b[1;34m(self, X, y)\u001b[0m\n\u001b[0;32m     37\u001b[0m \u001b[38;5;28;01mdef\u001b[39;00m \u001b[38;5;21mplot_hyperplane\u001b[39m(\u001b[38;5;28mself\u001b[39m, X, y):\n\u001b[0;32m     38\u001b[0m     \u001b[38;5;28;01mif\u001b[39;00m X\u001b[38;5;241m.\u001b[39mshape[\u001b[38;5;241m1\u001b[39m] \u001b[38;5;241m!=\u001b[39m \u001b[38;5;241m2\u001b[39m:\n\u001b[1;32m---> 39\u001b[0m         \u001b[38;5;28;01mraise\u001b[39;00m \u001b[38;5;167;01mValueError\u001b[39;00m(\u001b[38;5;124m\"\u001b[39m\u001b[38;5;124mCan only plot hyperplane in 2D space.\u001b[39m\u001b[38;5;124m\"\u001b[39m)\n\u001b[0;32m     40\u001b[0m     x_min, x_max \u001b[38;5;241m=\u001b[39m X[:, \u001b[38;5;241m0\u001b[39m]\u001b[38;5;241m.\u001b[39mmin() \u001b[38;5;241m-\u001b[39m \u001b[38;5;241m1\u001b[39m, X[:, \u001b[38;5;241m0\u001b[39m]\u001b[38;5;241m.\u001b[39mmax() \u001b[38;5;241m+\u001b[39m \u001b[38;5;241m1\u001b[39m\n\u001b[0;32m     41\u001b[0m     y_min, y_max \u001b[38;5;241m=\u001b[39m X[:, \u001b[38;5;241m1\u001b[39m]\u001b[38;5;241m.\u001b[39mmin() \u001b[38;5;241m-\u001b[39m \u001b[38;5;241m1\u001b[39m, X[:, \u001b[38;5;241m1\u001b[39m]\u001b[38;5;241m.\u001b[39mmax() \u001b[38;5;241m+\u001b[39m \u001b[38;5;241m1\u001b[39m\n",
      "\u001b[1;31mValueError\u001b[0m: Can only plot hyperplane in 2D space."
     ]
    }
   ],
   "source": [
    "svm.fit(X_train, y_train)\n",
    "svm.plot_hyperplane(X, y)"
   ]
  },
  {
   "cell_type": "code",
   "execution_count": 43,
   "id": "4ef2e33d",
   "metadata": {},
   "outputs": [
    {
     "name": "stdout",
     "output_type": "stream",
     "text": [
      "61.36363636363637\n"
     ]
    }
   ],
   "source": [
    "svm_pred1 = svm.predict(X_test)\n",
    "svm_acc = calculate_accuracy(y_test, svm_pred1)\n",
    "print(svm_acc)\n"
   ]
  },
  {
   "cell_type": "code",
   "execution_count": null,
   "id": "61d02f56",
   "metadata": {},
   "outputs": [],
   "source": [
    "import joblib\n",
    "import os\n",
    "model_path = os.path.join(os.getcwd(), 'svm_model.joblib')\n",
    "joblib.dump(svm, model_path)"
   ]
  },
  {
   "cell_type": "code",
   "execution_count": null,
   "id": "ff798cbc",
   "metadata": {},
   "outputs": [],
   "source": []
  },
  {
   "cell_type": "code",
   "execution_count": null,
   "id": "b775430b",
   "metadata": {},
   "outputs": [],
   "source": []
  }
 ],
 "metadata": {
  "kernelspec": {
   "display_name": "Python 3 (ipykernel)",
   "language": "python",
   "name": "python3"
  },
  "language_info": {
   "codemirror_mode": {
    "name": "ipython",
    "version": 3
   },
   "file_extension": ".py",
   "mimetype": "text/x-python",
   "name": "python",
   "nbconvert_exporter": "python",
   "pygments_lexer": "ipython3",
   "version": "3.10.8"
  }
 },
 "nbformat": 4,
 "nbformat_minor": 5
}
