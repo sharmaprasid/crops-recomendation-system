{
 "cells": [
  {
   "cell_type": "code",
   "execution_count": 1,
   "id": "8321fb96",
   "metadata": {},
   "outputs": [
    {
     "ename": "AttributeError",
     "evalue": "Can't get attribute 'SVM' on <module '__main__'>",
     "output_type": "error",
     "traceback": [
      "\u001b[1;31m---------------------------------------------------------------------------\u001b[0m",
      "\u001b[1;31mAttributeError\u001b[0m                            Traceback (most recent call last)",
      "Cell \u001b[1;32mIn[1], line 4\u001b[0m\n\u001b[0;32m      2\u001b[0m \u001b[38;5;66;03m# Load the model from a file\u001b[39;00m\n\u001b[0;32m      3\u001b[0m \u001b[38;5;28;01mwith\u001b[39;00m \u001b[38;5;28mopen\u001b[39m(\u001b[38;5;124m'\u001b[39m\u001b[38;5;124msvm_model.pkl\u001b[39m\u001b[38;5;124m'\u001b[39m, \u001b[38;5;124m'\u001b[39m\u001b[38;5;124mrb\u001b[39m\u001b[38;5;124m'\u001b[39m) \u001b[38;5;28;01mas\u001b[39;00m f:\n\u001b[1;32m----> 4\u001b[0m     svm_model \u001b[38;5;241m=\u001b[39m \u001b[43mpickle\u001b[49m\u001b[38;5;241;43m.\u001b[39;49m\u001b[43mload\u001b[49m\u001b[43m(\u001b[49m\u001b[43mf\u001b[49m\u001b[43m)\u001b[49m\n",
      "\u001b[1;31mAttributeError\u001b[0m: Can't get attribute 'SVM' on <module '__main__'>"
     ]
    }
   ],
   "source": [
    "\n",
    "import pickle\n",
    "# Load the model from a file\n",
    "with open('svm_model.pkl', 'rb') as f:\n",
    "    svm_model = pickle.load(f)\n"
   ]
  },
  {
   "cell_type": "code",
   "execution_count": 10,
   "id": "42f22f67",
   "metadata": {
    "scrolled": true
   },
   "outputs": [],
   "source": [
    "import pandas as pd\n",
    "from sklearn.model_selection import train_test_split\n",
    "\n",
    "def split_data(csv_file, train_file, test_file, val_file, test_size=0.2, val_size=0.25, random_state=42):\n",
    "    # Read the CSV file\n",
    "    data = pd.read_csv(csv_file)\n",
    "\n",
    "    # Split the data into train and test sets\n",
    "    train_data, test_data = train_test_split(data, test_size=test_size, random_state=random_state)\n",
    "\n",
    "    # Split the test set into test and validation sets\n",
    "    test_data, val_data = train_test_split(test_data, test_size=val_size, random_state=random_state)\n",
    "\n",
    "    # Save the data to separate CSV files\n",
    "    train_data.to_csv(train_file, index=False)\n",
    "    test_data.to_csv(test_file, index=False)\n",
    "    val_data.to_csv(val_file, index=False)\n",
    "\n",
    "# Example usage\n",
    "split_data('Crop_recommendation.csv', 'train.csv', 'test.csv', 'val.csv')\n"
   ]
  },
  {
   "cell_type": "code",
   "execution_count": null,
   "id": "72ddda72",
   "metadata": {},
   "outputs": [],
   "source": []
  }
 ],
 "metadata": {
  "kernelspec": {
   "display_name": "Python 3 (ipykernel)",
   "language": "python",
   "name": "python3"
  },
  "language_info": {
   "codemirror_mode": {
    "name": "ipython",
    "version": 3
   },
   "file_extension": ".py",
   "mimetype": "text/x-python",
   "name": "python",
   "nbconvert_exporter": "python",
   "pygments_lexer": "ipython3",
   "version": "3.10.8"
  }
 },
 "nbformat": 4,
 "nbformat_minor": 5
}
